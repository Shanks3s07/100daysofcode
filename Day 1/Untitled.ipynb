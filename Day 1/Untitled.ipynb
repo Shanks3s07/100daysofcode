{
 "cells": [
  {
   "cell_type": "markdown",
   "id": "still-sodium",
   "metadata": {},
   "source": [
    "# Day 1"
   ]
  },
  {
   "cell_type": "markdown",
   "id": "removable-permit",
   "metadata": {},
   "source": [
    "## Learning trees "
   ]
  },
  {
   "cell_type": "code",
   "execution_count": 2,
   "id": "revised-colleague",
   "metadata": {},
   "outputs": [],
   "source": [
    "#defining a tree\n",
    "class binaryTreeNode:\n",
    "    def __init__(self,data):\n",
    "        self.data = data\n",
    "        self.left = None\n",
    "        self.right = None"
   ]
  },
  {
   "cell_type": "code",
   "execution_count": 3,
   "id": "acquired-queens",
   "metadata": {},
   "outputs": [],
   "source": [
    "#Creating nodes and linking them\n",
    "node1 = binaryTreeNode(50)\n",
    "node2 = binaryTreeNode(40)\n",
    "node3 = binaryTreeNode(30)\n",
    "node4 = binaryTreeNode(45)\n",
    "node5 = binaryTreeNode(60)\n",
    "node6 = binaryTreeNode(55)\n",
    "node7 = binaryTreeNode(70)\n",
    "\n",
    "node1.left = node2\n",
    "node2.left = node3\n",
    "node2.right = node4\n",
    "node1.right = node5\n",
    "node5.left = node6\n",
    "node5.right = node7"
   ]
  },
  {
   "cell_type": "code",
   "execution_count": 5,
   "id": "compact-marine",
   "metadata": {},
   "outputs": [
    {
     "name": "stdout",
     "output_type": "stream",
     "text": [
      "Inorder:30,40,45,50,55,60,70, \n",
      "Preorder:50,30,40,45,55,60,70, \n",
      "postorder:30,40,45,55,60,70,50,"
     ]
    }
   ],
   "source": [
    "#Tree traversals\n",
    "def inorder(root):\n",
    "    if root:\n",
    "        inorder(root.left)\n",
    "        print(root.data,end = \",\")\n",
    "        inorder(root.right)\n",
    "def preorder(root):\n",
    "    if root:\n",
    "        print(root.data,end = \",\")\n",
    "        inorder(root.left)\n",
    "        inorder(root.right)\n",
    "def postorder(root):\n",
    "    if root:\n",
    "        inorder(root.left)\n",
    "        inorder(root.right)\n",
    "        print(root.data,end = \",\")\n",
    "    \n",
    "\n",
    "root = node1\n",
    "print(\"Inorder\",end=\":\")\n",
    "inorder(root)\n",
    "print(\" \")\n",
    "print(\"Preorder\",end=\":\")\n",
    "preorder(root)\n",
    "print(\" \")\n",
    "print(\"postorder\",end=\":\")\n",
    "postorder(root)\n",
    "# (I) Inorder\n"
   ]
  }
 ],
 "metadata": {
  "kernelspec": {
   "display_name": "Python 3",
   "language": "python",
   "name": "python3"
  },
  "language_info": {
   "codemirror_mode": {
    "name": "ipython",
    "version": 3
   },
   "file_extension": ".py",
   "mimetype": "text/x-python",
   "name": "python",
   "nbconvert_exporter": "python",
   "pygments_lexer": "ipython3",
   "version": "3.9.2"
  }
 },
 "nbformat": 4,
 "nbformat_minor": 5
}
