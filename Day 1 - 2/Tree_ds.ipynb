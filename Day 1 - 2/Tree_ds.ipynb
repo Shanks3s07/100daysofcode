{
 "cells": [
  {
   "cell_type": "markdown",
   "id": "still-sodium",
   "metadata": {},
   "source": [
    "# Day 1"
   ]
  },
  {
   "cell_type": "markdown",
   "id": "fatal-truth",
   "metadata": {},
   "source": [
    "## Imp concepts to learn\n",
    "#### Heap\n",
    "#### Sliding Window\n",
    "#### Binart Search\n",
    "#### DFS and BFS\n",
    "#### Recursion\n",
    "#### Hashmap"
   ]
  },
  {
   "cell_type": "markdown",
   "id": "removable-permit",
   "metadata": {},
   "source": [
    "## Learning trees "
   ]
  },
  {
   "cell_type": "code",
   "execution_count": 1,
   "id": "revised-colleague",
   "metadata": {},
   "outputs": [],
   "source": [
    "#defining a tree\n",
    "class binaryTreeNode:\n",
    "    def __init__(self,data):\n",
    "        self.data = data\n",
    "        self.left = None\n",
    "        self.right = None"
   ]
  },
  {
   "cell_type": "code",
   "execution_count": 2,
   "id": "acquired-queens",
   "metadata": {},
   "outputs": [],
   "source": [
    "#Creating nodes and linking them\n",
    "node1 = binaryTreeNode(50)\n",
    "node2 = binaryTreeNode(40)\n",
    "node3 = binaryTreeNode(30)\n",
    "node4 = binaryTreeNode(45)\n",
    "node5 = binaryTreeNode(60)\n",
    "node6 = binaryTreeNode(55)\n",
    "node7 = binaryTreeNode(70)\n",
    "\n",
    "node1.left = node2\n",
    "node2.left = node3\n",
    "node2.right = node4\n",
    "node1.right = node5\n",
    "node5.left = node6\n",
    "node5.right = node7"
   ]
  },
  {
   "cell_type": "code",
   "execution_count": 3,
   "id": "compact-marine",
   "metadata": {},
   "outputs": [
    {
     "name": "stdout",
     "output_type": "stream",
     "text": [
      "Inorder:30,40,45,50,55,60,70, \n",
      "Preorder:50,30,40,45,55,60,70, \n",
      "postorder:30,40,45,55,60,70,50,"
     ]
    }
   ],
   "source": [
    "#Tree traversals\n",
    "def inorder(root):\n",
    "    if root:\n",
    "        inorder(root.left)\n",
    "        print(root.data,end = \",\")\n",
    "        inorder(root.right)\n",
    "def preorder(root):\n",
    "    if root:\n",
    "        print(root.data,end = \",\")\n",
    "        inorder(root.left)\n",
    "        inorder(root.right)\n",
    "def postorder(root):\n",
    "    if root:\n",
    "        inorder(root.left)\n",
    "        inorder(root.right)\n",
    "        print(root.data,end = \",\")\n",
    "    \n",
    "\n",
    "root = node1\n",
    "print(\"Inorder\",end=\":\")\n",
    "inorder(root)\n",
    "print(\" \")\n",
    "print(\"Preorder\",end=\":\")\n",
    "preorder(root)\n",
    "print(\" \")\n",
    "print(\"postorder\",end=\":\")\n",
    "postorder(root)\n",
    "# (I) Inorder\n"
   ]
  },
  {
   "cell_type": "code",
   "execution_count": 7,
   "id": "express-booking",
   "metadata": {},
   "outputs": [
    {
     "data": {
      "text/plain": [
       "3"
      ]
     },
     "execution_count": 7,
     "metadata": {},
     "output_type": "execute_result"
    }
   ],
   "source": [
    "#Height of a binary tree\n",
    "\n",
    "def height(root):\n",
    "    if root == None:\n",
    "        return 0\n",
    "    leftH = height(root.left)\n",
    "    rightH = height(root.right)\n",
    "    return 1 + max(leftH,rightH)\n",
    "    \n",
    "root = node1\n",
    "height(root)"
   ]
  },
  {
   "cell_type": "code",
   "execution_count": 14,
   "id": "australian-imperial",
   "metadata": {
    "scrolled": true
   },
   "outputs": [
    {
     "name": "stdout",
     "output_type": "stream",
     "text": [
      "50 40 60 30 45 55 70 "
     ]
    }
   ],
   "source": [
    "#Level order\n",
    "from collections import deque \n",
    "\n",
    "def levelOrder(root):\n",
    "    if not root:\n",
    "        return \n",
    "    q = deque()\n",
    "    q.append(root)\n",
    "    temp = root\n",
    "    while q:\n",
    "        temp = q[0]\n",
    "        print(q[0].data,end=' ') \n",
    "        if temp.left:\n",
    "            q.append(temp.left) \n",
    "        if temp.right:\n",
    "            q.append(temp.right) \n",
    "        q.popleft()\n",
    "\n",
    "root = node1\n",
    "levelOrder(root)"
   ]
  },
  {
   "cell_type": "code",
   "execution_count": null,
   "id": "democratic-politics",
   "metadata": {},
   "outputs": [],
   "source": [
    "#Print all values in a level\n",
    "def klevelnodes(root,k):\n",
    "    q = deque()\n",
    "    q.append(root)\n",
    "    temp = root\n",
    "    level = 0\n",
    "    while q:\n",
    "        temp = q[0]\n",
    "        "
   ]
  }
 ],
 "metadata": {
  "kernelspec": {
   "display_name": "Python 3",
   "language": "python",
   "name": "python3"
  },
  "language_info": {
   "codemirror_mode": {
    "name": "ipython",
    "version": 3
   },
   "file_extension": ".py",
   "mimetype": "text/x-python",
   "name": "python",
   "nbconvert_exporter": "python",
   "pygments_lexer": "ipython3",
   "version": "3.9.2"
  }
 },
 "nbformat": 4,
 "nbformat_minor": 5
}
